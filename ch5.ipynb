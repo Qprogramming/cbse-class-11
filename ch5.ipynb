{
 "metadata": {
  "language_info": {
   "codemirror_mode": {
    "name": "ipython",
    "version": 3
   },
   "file_extension": ".py",
   "mimetype": "text/x-python",
   "name": "python",
   "nbconvert_exporter": "python",
   "pygments_lexer": "ipython3",
   "version": "3.9.1-final"
  },
  "orig_nbformat": 2,
  "kernelspec": {
   "name": "python38664bit6c4c5882d4f642e9ae1ceac80ed875d8",
   "display_name": "Python 3.8.6 64-bit",
   "language": "python"
  }
 },
 "nbformat": 4,
 "nbformat_minor": 2,
 "cells": [
  {
   "source": [
    "Python is a high level language. It is a free and\n",
    "open source language.\n",
    "\n",
    "• It is an interpreted language, as Python programs\n",
    "are executed by an interpreter.\n",
    "• Python programs are easy to understand as\n",
    "they have a clearly defined syntax and relatively\n",
    "simple structure.\n",
    "• Python is case-sensitive. For example, NUMBER\n",
    "and number are not same in Python.\n",
    "• Python is portable and platform independent,\n",
    "means it can run on various operating systems and\n",
    "hardware platforms.\n",
    "• Python has a rich library of predefined functions.\n",
    "• Python is also helpful in web development. Many\n",
    "popular web services and applications are built\n",
    "using Python.\n",
    "• Python uses indentation for blocks and\n",
    "nested blocks."
   ],
   "cell_type": "markdown",
   "metadata": {}
  },
  {
   "source": [
    "# Python Keywords\n",
    "\n",
    "eg: class - Keyword\n",
    "\n",
    "predefined function - to defin a class in Python"
   ],
   "cell_type": "markdown",
   "metadata": {}
  },
  {
   "cell_type": "code",
   "execution_count": null,
   "metadata": {},
   "outputs": [],
   "source": [
    "class = 1"
   ]
  },
  {
   "cell_type": "code",
   "execution_count": null,
   "metadata": {},
   "outputs": [],
   "source": [
    "Class = 1"
   ]
  },
  {
   "source": [
    "# Identifiers\n",
    "Identifier is a name used to identify a variable, function or other identies in a program.\n",
    "\n",
    " The name should begin with an uppercase or a\n",
    "lowercase alphabet or an underscore sign (_). This\n",
    "may be followed by any combination of characters\n",
    "a–z, A–Z, 0–9 or underscore (_). Thus, an identifier\n",
    "cannot start with a digit.\n",
    "• It can be of any length. (However, it is preferred to\n",
    "keep it short and meaningful).\n",
    "• It should not be a keyword or reserved word\n"
   ],
   "cell_type": "markdown",
   "metadata": {}
  },
  {
   "cell_type": "code",
   "execution_count": null,
   "metadata": {},
   "outputs": [],
   "source": [
    "9a = 5 #wrong - can't start with number"
   ]
  },
  {
   "cell_type": "code",
   "execution_count": null,
   "metadata": {},
   "outputs": [],
   "source": [
    "#acceptable forms\n",
    "_a = 5\n",
    "A = 5\n",
    "a = 5"
   ]
  },
  {
   "cell_type": "code",
   "execution_count": null,
   "metadata": {},
   "outputs": [],
   "source": [
    "num_students = 5 #short and meaningful names"
   ]
  },
  {
   "cell_type": "code",
   "execution_count": null,
   "metadata": {},
   "outputs": [],
   "source": [
    "$a = 5 #cannot start with special character"
   ]
  },
  {
   "source": [
    "# Variables\n",
    "Variable in Python refers to an object — an item or element that is stored in the memory\n"
   ],
   "cell_type": "markdown",
   "metadata": {}
  },
  {
   "cell_type": "code",
   "execution_count": null,
   "metadata": {},
   "outputs": [],
   "source": [
    "bottle = \"water\" \n",
    "# bottle is identifier\n",
    "# \"water\" is our item/element\n",
    "# the variable bottle is an identifier of is stored in the memory (fridge)\n",
    "# = is our assignment statement\n"
   ]
  },
  {
   "cell_type": "code",
   "execution_count": null,
   "metadata": {},
   "outputs": [],
   "source": [
    "# displaying values of variables\n",
    "bottle = \"water\"\n",
    "print(bottle) #output value stored in bottle variable"
   ]
  },
  {
   "cell_type": "code",
   "execution_count": null,
   "metadata": {},
   "outputs": [],
   "source": [
    "bottle = \"water\"\n",
    "bottle = 5\n",
    "print(bottle)"
   ]
  },
  {
   "source": [
    "# Comments\n",
    "- Used to add notes to source code\n",
    "- used as explanation\n",
    "- used to \"comment out code\" meaning keep the code in the file, but don't run it"
   ],
   "cell_type": "markdown",
   "metadata": {}
  },
  {
   "source": [
    "## Single line comment\n",
    "\n",
    "Uses \"#\" before comment\n",
    "\n",
    "eg: #this is single line\n",
    "## Multi line comment\n",
    "\n",
    "Use three pairs of single or double quotes\n",
    "\n",
    "eg:\n",
    "''' co\n",
    "    de \n",
    "'''"
   ],
   "cell_type": "markdown",
   "metadata": {}
  },
  {
   "cell_type": "code",
   "execution_count": null,
   "metadata": {},
   "outputs": [],
   "source": [
    "#objects and ids\n",
    "bottle = \"empty\"\n",
    "print(id(bottle))"
   ]
  },
  {
   "cell_type": "code",
   "execution_count": null,
   "metadata": {},
   "outputs": [],
   "source": [
    "print(ord(\"a\"))\n",
    "print(ord(\"A\"))"
   ]
  },
  {
   "cell_type": "code",
   "execution_count": null,
   "metadata": {},
   "outputs": [],
   "source": [
    "\"aBC\" > \"aBc\""
   ]
  },
  {
   "cell_type": "code",
   "execution_count": null,
   "metadata": {},
   "outputs": [],
   "source": [
    "print(ord(\"a\") + ord(\"B\") + ord(\"C\"))\n",
    "print(ord(\"A\") + ord(\"B\") + ord(\"c\"))"
   ]
  },
  {
   "cell_type": "code",
   "execution_count": null,
   "metadata": {},
   "outputs": [],
   "source": [
    "num = 5\n",
    "num **= 5\n",
    "print(num)"
   ]
  },
  {
   "cell_type": "code",
   "execution_count": null,
   "metadata": {},
   "outputs": [],
   "source": [
    "print(not \"None\")"
   ]
  },
  {
   "cell_type": "code",
   "execution_count": null,
   "metadata": {},
   "outputs": [],
   "source": [
    "x = 5\n",
    "y = 5\n",
    "print(x is not y)"
   ]
  },
  {
   "source": [],
   "cell_type": "markdown",
   "metadata": {}
  },
  {
   "cell_type": "code",
   "execution_count": null,
   "metadata": {},
   "outputs": [],
   "source": [
    "print(\"hello\",\"bye\" , sep=\" : \", end=\" \")\n",
    "print(\"5\")"
   ]
  },
  {
   "source": [
    "# Errors\n",
    "\n",
    "- Syntax: errors caused by not following syntax rules\n",
    "- Logical/semantic: code runs, but it gives incorrect output due to logical error inside it\n",
    "- Runtime: abnormal termination of program. Syntax is correct, but termination occurs when program is running. Eg: ZeroDivisionError."
   ],
   "cell_type": "markdown",
   "metadata": {}
  }
 ]
}